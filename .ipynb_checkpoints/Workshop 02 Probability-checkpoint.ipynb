{
 "cells": [
  {
   "cell_type": "markdown",
   "metadata": {},
   "source": [
    "# Warmup: Count to 50\n",
    "\n",
    "Use a RNG to generate rolls of a 12-sided die. \n",
    "Write a function that counts the number of rolls taken until the total of the rolls totals 50 or more.\n",
    "\n",
    "```\n",
    "rollto50() -> 5\n",
    "rollto50() -> 6\n",
    "```"
   ]
  },
  {
   "cell_type": "code",
   "execution_count": 9,
   "metadata": {},
   "outputs": [
    {
     "data": {
      "text/plain": [
       "9"
      ]
     },
     "execution_count": 9,
     "metadata": {},
     "output_type": "execute_result"
    }
   ],
   "source": [
    "import random\n",
    "\n",
    "def rollto50():\n",
    "    \n",
    "    count = 0\n",
    "    total = 0\n",
    "    \n",
    "    while total <= 50:\n",
    "        total += random.randint(1, 12)\n",
    "        count += 1\n",
    "    \n",
    "    return count\n",
    "\n",
    "rollto50()"
   ]
  },
  {
   "cell_type": "markdown",
   "metadata": {},
   "source": [
    "# Problem 1: Monte Carlo Sampling\n",
    "\n",
    "Data Scientists are often lazy. Instead of calculating the exact probability of complex events, we simulate samples with a RNG and average the results. This is called **Monte Carlo Sampling** after the casino in Monaco (yes, really).\n",
    "\n",
    "Write a function `monte_carlo_dice(n)` that given a 6-sided die, rolls it $n$ times and averages the result.\n",
    "\n",
    "The result should get closer to the true expected value (3.5) as $n$ increases:\n",
    "\n",
    "```\n",
    "n: 100 Trial average 3.39 \n",
    "n: 1000 Trial average 3.576 \n",
    "n: 10000 Trial average 3.5054 \n",
    "n: 100000 Trial average 3.50201 \n",
    "n: 500000 Trial average 3.495568\n",
    "```"
   ]
  },
  {
   "cell_type": "code",
   "execution_count": 12,
   "metadata": {},
   "outputs": [
    {
     "name": "stdout",
     "output_type": "stream",
     "text": [
      "3.4\n",
      "3.548\n",
      "3.5308\n",
      "3.49854\n"
     ]
    }
   ],
   "source": [
    "def monte_carlo_dice(rolls):\n",
    "    \n",
    "    avg = 0\n",
    "    \n",
    "    for i in range(rolls):\n",
    "        \n",
    "        avg += random.randint(1, 6)\n",
    "    \n",
    "    avg = avg / rolls\n",
    "    \n",
    "    return avg\n",
    "\n",
    "print(monte_carlo_dice(100))\n",
    "print(monte_carlo_dice(1000))\n",
    "print(monte_carlo_dice(10000))\n",
    "print(monte_carlo_dice(100000))"
   ]
  },
  {
   "cell_type": "markdown",
   "metadata": {},
   "source": [
    "# 2: Estimating the Area of a Circle\n",
    "\n",
    "Consider a dartboard with a circle of radius $r$ inscribed in a square with side $2r$. Now let’s say you start throwing a large number of darts at it. \n",
    "\n",
    "Some of these will hit the board within the circle—let’s say, $N$—and others out-side it—let’s say, $M$. If we consider the fraction of darts that land inside the circle:\n",
    "\n",
    "$$f = \\dfrac{N}{N + M}$$\n",
    "\n",
    "Then the value of $f * A$ with $A$ being the area of the square will approximate the actual area of the circle (which is  $\\pi 2 r$)\n",
    "\n",
    "<img src=\"Circle Target.png\" style=\"width: 200px;\">\n",
    "\n",
    "Write a function `circle_estimate(radius, trials)` which will estimate the area of a circle by throwing `trials` random darts at the square.\n",
    "\n",
    "\n",
    "\n",
    "```\n",
    "Radius: 2\n",
    "Area: 12.566370614359172, Estimated (1000 darts): 12.576\n",
    "Area: 12.566370614359172, Estimated (100000 darts): 12.58176\n",
    "Area: 12.566370614359172, Estimated (1000000 darts): 12.560128\n",
    "```\n",
    "\n",
    "**Hint:** Generate 2 random numbers for each dart throw, one for the `x` axis and one for the `y` axis. Use the [Pythagorean Theorem](https://en.wikipedia.org/wiki/Pythagorean_theorem) find if it's outside the circle"
   ]
  },
  {
   "cell_type": "code",
   "execution_count": 38,
   "metadata": {},
   "outputs": [
    {
     "name": "stdout",
     "output_type": "stream",
     "text": [
      "Area: 12.566370614359172, Estimated (1000 darts): 12.512\n",
      "Area: 12.566370614359172, Estimated (10000 darts): 12.6208\n",
      "Area: 12.566370614359172, Estimated (100000 darts): 12.56608\n"
     ]
    }
   ],
   "source": [
    "import math\n",
    "import numpy\n",
    "\n",
    "def circle_estimate(r, trials):\n",
    "    \n",
    "    circle_area = math.pi * (r ** 2)\n",
    "    A = (2 * r) ** 2\n",
    "    hits = 0\n",
    "    \n",
    "    for i in range(trials):\n",
    "        \n",
    "        x = numpy.random.uniform()\n",
    "        y = numpy.random.uniform()\n",
    "        \n",
    "        if (((x ** 2) + (y ** 2)) ** 0.5) < 1:\n",
    "            \n",
    "            hits += 1\n",
    "            \n",
    "    f = hits / trials\n",
    "    \n",
    "    return(f\"Area: {circle_area}, Estimated ({trials} darts): {f * A}\")\n",
    "\n",
    "print(circle_estimate(2, 1000))\n",
    "print(circle_estimate(2, 10000))\n",
    "print(circle_estimate(2, 100000))"
   ]
  },
  {
   "cell_type": "markdown",
   "metadata": {},
   "source": [
    "# 3: Binomial distribution\n",
    "\n",
    "The [binomial random variable](https://en.wikipedia.org/wiki/Binomial_distribution) $ Y \\sim Bin(n, p) $ represents the number of successes in $ n $ coin flips, where each trial succeeds with probability $ p $.\n",
    "\n",
    "Without any import besides `from numpy.random import uniform`, write a function\n",
    "`binomial_rv` such that `binomial_rv(n, p)` generates one draw of $ Y $.\n",
    "\n",
    "Hint: If $ U $ is uniform on $ (0, 1) $ and $ p \\in (0,1) $, then the expression `U < p` evaluates to `True` with probability $ p $."
   ]
  },
  {
   "cell_type": "code",
   "execution_count": 39,
   "metadata": {},
   "outputs": [
    {
     "name": "stdout",
     "output_type": "stream",
     "text": [
      "The coin has landed on heads 4 times with a probability of 50%\n"
     ]
    }
   ],
   "source": [
    "def binomial_rv(n, p):\n",
    "    \n",
    "    heads = 0\n",
    "    \n",
    "    for i in range(n):\n",
    "                \n",
    "        if numpy.random.uniform() > (p / 100):\n",
    "            \n",
    "            heads += 1\n",
    "        \n",
    "    return(f\"The coin has landed on heads {heads} times with a probability of {p}%\")\n",
    "\n",
    "print(binomial_rv(10, 50))            "
   ]
  },
  {
   "cell_type": "code",
   "execution_count": null,
   "metadata": {},
   "outputs": [],
   "source": []
  }
 ],
 "metadata": {
  "file_extension": ".py",
  "kernelspec": {
   "display_name": "Python 3",
   "language": "python",
   "name": "python3"
  },
  "language_info": {
   "codemirror_mode": {
    "name": "ipython",
    "version": 3
   },
   "file_extension": ".py",
   "mimetype": "text/x-python",
   "name": "python",
   "nbconvert_exporter": "python",
   "pygments_lexer": "ipython3",
   "version": "3.7.6"
  },
  "mimetype": "text/x-python",
  "name": "python",
  "npconvert_exporter": "python",
  "pygments_lexer": "ipython3",
  "version": 3
 },
 "nbformat": 4,
 "nbformat_minor": 2
}
